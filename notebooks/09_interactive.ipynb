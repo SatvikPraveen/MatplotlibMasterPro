{
 "cells": [
  {
   "cell_type": "markdown",
   "id": "b07e15d5",
   "metadata": {},
   "source": [
    "# 🧩 Notebook-09: Interactive Plots with Matplotlib"
   ]
  },
  {
   "cell_type": "code",
   "execution_count": 1,
   "id": "fdcaaac0",
   "metadata": {},
   "outputs": [
    {
     "name": "stdout",
     "output_type": "stream",
     "text": [
      "🕹️ Interactive Plots using Matplotlib + ipywidgets\n",
      "\n"
     ]
    }
   ],
   "source": [
    "import pandas as pd\n",
    "import matplotlib.pyplot as plt\n",
    "import numpy as np\n",
    "import sys\n",
    "from pathlib import Path\n",
    "\n",
    "# ✅ Enable interactivity\n",
    "%matplotlib widget\n",
    "\n",
    "# ✅ Setup path to use utils\n",
    "PROJECT_ROOT = Path.cwd().parent\n",
    "UTILS_DIR = PROJECT_ROOT / \"utils\"\n",
    "if str(UTILS_DIR) not in sys.path:\n",
    "    sys.path.insert(0, str(UTILS_DIR))\n",
    "\n",
    "from plot_utils import interactive_slider_plot, dropdown_plot\n",
    "\n",
    "print(\"🕹️ Interactive Plots using Matplotlib + ipywidgets\\n\")"
   ]
  },
  {
   "cell_type": "code",
   "execution_count": 2,
   "id": "7d910fec",
   "metadata": {},
   "outputs": [],
   "source": [
    "# 📂 1. Load and Prepare Data\n",
    "df = pd.read_csv(PROJECT_ROOT / \"datasets\" / \"sales_data.csv\")\n",
    "monthly = df.groupby(\"Month\")[[\"Units Sold\", \"Revenue\"]].sum().reset_index()\n",
    "\n",
    "x = monthly[\"Month\"]\n",
    "y_series_dict = {\n",
    "    \"Units Sold\": monthly[\"Units Sold\"],\n",
    "    \"Revenue\": monthly[\"Revenue\"]\n",
    "}"
   ]
  },
  {
   "cell_type": "code",
   "execution_count": 3,
   "id": "e24eac75",
   "metadata": {},
   "outputs": [
    {
     "data": {
      "application/vnd.jupyter.widget-view+json": {
       "model_id": "e7130d6ac9174c2a82bf8f59b289c89a",
       "version_major": 2,
       "version_minor": 0
      },
      "text/plain": [
       "interactive(children=(IntSlider(value=0, description='index', max=11), Output()), _dom_classes=('widget-intera…"
      ]
     },
     "metadata": {},
     "output_type": "display_data"
    }
   ],
   "source": [
    "# 🎚️ 2. Interactive Slider Plot – Highlight a Month\n",
    "interactive_slider_plot(\n",
    "    x=x,\n",
    "    y_series_dict=y_series_dict,\n",
    "    xlabel=\"Month\",\n",
    "    ylabel=\"Value\",\n",
    "    title_prefix=\"📍 Interactive View at Month\"\n",
    ")"
   ]
  },
  {
   "cell_type": "code",
   "execution_count": 4,
   "id": "63f93c5a",
   "metadata": {},
   "outputs": [
    {
     "data": {
      "application/vnd.jupyter.widget-view+json": {
       "model_id": "348ae0aa132449a88b1c8c4f0dc45785",
       "version_major": 2,
       "version_minor": 0
      },
      "text/plain": [
       "interactive(children=(Dropdown(description='Series', options=('Units Sold', 'Revenue'), value='Units Sold'), O…"
      ]
     },
     "metadata": {},
     "output_type": "display_data"
    }
   ],
   "source": [
    "# 🔽 3. Dropdown Plot – Select Series to View\n",
    "dropdown_plot(\n",
    "    x=x,\n",
    "    y_series_dict=y_series_dict,\n",
    "    xlabel=\"Month\",\n",
    "    ylabel=\"Value\",\n",
    "    title=\"🔽 Monthly Data Viewer\"\n",
    ")"
   ]
  },
  {
   "cell_type": "markdown",
   "id": "43c17a0a",
   "metadata": {},
   "source": [
    "## ✅ Summary\n",
    "- ✅ Used `%matplotlib widget` for live interactivity\n",
    "- ✅ Added a slider to dynamically highlight points\n",
    "- ✅ Allowed dropdown-based series switching\n"
   ]
  }
 ],
 "metadata": {
  "kernelspec": {
   "display_name": "mp_py_env",
   "language": "python",
   "name": "python3"
  },
  "language_info": {
   "codemirror_mode": {
    "name": "ipython",
    "version": 3
   },
   "file_extension": ".py",
   "mimetype": "text/x-python",
   "name": "python",
   "nbconvert_exporter": "python",
   "pygments_lexer": "ipython3",
   "version": "3.11.11"
  }
 },
 "nbformat": 4,
 "nbformat_minor": 5
}
